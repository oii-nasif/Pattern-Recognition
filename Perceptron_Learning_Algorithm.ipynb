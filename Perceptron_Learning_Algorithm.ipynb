{
  "nbformat": 4,
  "nbformat_minor": 0,
  "metadata": {
    "colab": {
      "name": "Perceptron_Learning_Algorithm.ipynb",
      "provenance": [],
      "collapsed_sections": []
    },
    "kernelspec": {
      "name": "python3",
      "display_name": "Python 3"
    }
  },
  "cells": [
    {
      "cell_type": "code",
      "metadata": {
        "id": "bqel4FGDFsNi",
        "colab_type": "code",
        "colab": {}
      },
      "source": [
        "import numpy as np \n",
        "import pandas as pd \n",
        "from sklearn.metrics import confusion_matrix \n",
        "from sklearn.model_selection import train_test_split \n",
        "from sklearn.tree import DecisionTreeClassifier \n",
        "from sklearn.metrics import accuracy_score \n",
        "from sklearn.metrics import classification_report \n",
        "from sklearn.preprocessing import StandardScaler "
      ],
      "execution_count": 1,
      "outputs": []
    },
    {
      "cell_type": "code",
      "metadata": {
        "id": "tXKAVFJCF9Xx",
        "colab_type": "code",
        "colab": {}
      },
      "source": [
        "# Reading the Dataset \n",
        "dataset = pd.read_csv('/content/bill_authentication.csv')\n",
        "\n",
        "# X y defining\n",
        "X = dataset.iloc[:, [0,1,2, 3]].values\n",
        "y = dataset.iloc[:,4].values\n",
        "\n",
        "# train test split\n",
        "X_train, X_test, y_train, y_test = train_test_split(X, y, test_size = 0.25, random_state = 228)"
      ],
      "execution_count": 12,
      "outputs": []
    },
    {
      "cell_type": "code",
      "metadata": {
        "id": "6l7cRRqXIl02",
        "colab_type": "code",
        "colab": {}
      },
      "source": [
        "# feature scaling\n",
        "sc = StandardScaler()\n",
        "X_train = sc.fit_transform(X_train)\n",
        "X_test = sc.fit_transform(X_test)\n"
      ],
      "execution_count": 13,
      "outputs": []
    },
    {
      "cell_type": "code",
      "metadata": {
        "id": "qgAWTjoyNRub",
        "colab_type": "code",
        "colab": {}
      },
      "source": [
        "def predict(w,X):\n",
        "  z = np.dot(w, X)\n",
        "  b = z.sum()\n",
        "  if b > 0 :\n",
        "    output = 1\n",
        "  else: \n",
        "    output = 0\n",
        "  return output"
      ],
      "execution_count": 14,
      "outputs": []
    },
    {
      "cell_type": "code",
      "metadata": {
        "id": "5656mHwTRzlK",
        "colab_type": "code",
        "colab": {}
      },
      "source": [
        "def update(i,w,j):\n",
        "  k=0\n",
        "  while k < 50:\n",
        "    k = k + 1\n",
        "    result = predict(w, i)\n",
        "    if result == j:\n",
        "      uw = np.copy(w)\n",
        "    elif result > j:\n",
        "      uw = np.copy(np.subtract(w, i))  \n",
        "    elif result < j:\n",
        "      uw = np.copy(np.add(w, i))\n",
        "\n",
        "    k = k + 1\n",
        "  return uw"
      ],
      "execution_count": 15,
      "outputs": []
    },
    {
      "cell_type": "code",
      "metadata": {
        "id": "A3od1uC4IpUP",
        "colab_type": "code",
        "colab": {}
      },
      "source": [
        "def train():\n",
        "  w = np.random.rand(1,4)\n",
        "  for i in range (X_train.shape[0]):\n",
        "    nw = update(X_train[i],w,y_train[i])\n",
        "    w = np.copy(nw)\n",
        "  return w\n",
        "\n",
        "lw = np.copy(train())\n"
      ],
      "execution_count": 16,
      "outputs": []
    },
    {
      "cell_type": "code",
      "metadata": {
        "id": "a7ML3ZWljGlH",
        "colab_type": "code",
        "colab": {}
      },
      "source": [
        "def test():\n",
        "  for i in range (X_test.shape[0]):\n",
        "    test_prediction = predict(lw, X_test[i])\n",
        "    y_pred.append(test_prediction)\n",
        "\n",
        "y_pred = []\n",
        "test()"
      ],
      "execution_count": 17,
      "outputs": []
    },
    {
      "cell_type": "code",
      "metadata": {
        "id": "ieBqF8IYzm73",
        "colab_type": "code",
        "colab": {
          "base_uri": "https://localhost:8080/",
          "height": 71
        },
        "outputId": "d4ac6f15-9c07-4e14-ada2-4c163e423f3a"
      },
      "source": [
        "print(len(y_test))\n",
        "print(len(y_pred))\n",
        "\n",
        "k = 0\n",
        "\n",
        "for i in range(len(y_pred)):\n",
        "    if y_pred[i] == y_test[i]:\n",
        "        k = k + 1\n",
        "\n",
        "accuracy = k / len(y_pred)\n",
        "print(accuracy)"
      ],
      "execution_count": 18,
      "outputs": [
        {
          "output_type": "stream",
          "text": [
            "343\n",
            "343\n",
            "0.9154518950437318\n"
          ],
          "name": "stdout"
        }
      ]
    },
    {
      "cell_type": "code",
      "metadata": {
        "id": "NOn419luz4_n",
        "colab_type": "code",
        "colab": {}
      },
      "source": [
        ""
      ],
      "execution_count": 10,
      "outputs": []
    }
  ]
}