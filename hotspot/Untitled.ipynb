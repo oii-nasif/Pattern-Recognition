{
 "cells": [
  {
   "cell_type": "code",
   "execution_count": null,
   "metadata": {},
   "outputs": [],
   "source": [
    "import requests\n",
    "\n",
    "IDs = ['B5ZC00', 'Q5SLP9']\n",
    "\n",
    "with open('datagly.fasta', 'w') as file: \n",
    "    for i in IDs:\n",
    "        url = 'http://www.uniprot.org/uniprot/{}.fasta'.format(i)\n",
    "        text = requests.get(url)\n",
    "#         print(text.text)\n",
    "        file.write(text)\n",
    "\n"
   ]
  },
  {
   "cell_type": "code",
   "execution_count": null,
   "metadata": {},
   "outputs": [],
   "source": []
  }
 ],
 "metadata": {
  "kernelspec": {
   "display_name": "Python 3",
   "language": "python",
   "name": "python3"
  },
  "language_info": {
   "codemirror_mode": {
    "name": "ipython",
    "version": 3
   },
   "file_extension": ".py",
   "mimetype": "text/x-python",
   "name": "python",
   "nbconvert_exporter": "python",
   "pygments_lexer": "ipython3",
   "version": "3.7.4"
  }
 },
 "nbformat": 4,
 "nbformat_minor": 4
}
