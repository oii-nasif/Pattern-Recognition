{
 "cells": [
  {
   "cell_type": "code",
   "execution_count": null,
   "metadata": {},
   "outputs": [],
   "source": [
    "def reverseComplement(sequence):\n",
    "    c = {'A':'T', 'T':'A', 'C':'G', 'G':'C'}\n",
    "\n",
    "    v = ''\n",
    "    for bp in sequence:\n",
    "        v = c[bp] + v\n",
    "    return v"
   ]
  },
  {
   "cell_type": "code",
   "execution_count": null,
   "metadata": {},
   "outputs": [],
   "source": [
    "def readFASTAs(fileName):\n",
    "\n",
    "    with open(fileName, 'r') as file:\n",
    "        v = []\n",
    "        genome = ''\n",
    "        for line in file:\n",
    "            if line[0] != '>':\n",
    "                genome += line.strip()\n",
    "            else:\n",
    "                v.append(genome.upper())\n",
    "                genome = ''\n",
    "        v.append(genome.upper())\n",
    "        del v[0]\n",
    "        return v"
   ]
  },
  {
   "cell_type": "code",
   "execution_count": null,
   "metadata": {},
   "outputs": [],
   "source": [
    "Sequences = readFASTAs('hotCold.txt')"
   ]
  },
  {
   "cell_type": "code",
   "execution_count": null,
   "metadata": {},
   "outputs": [],
   "source": [
    "import itertools\n",
    "import numpy as np"
   ]
  },
  {
   "cell_type": "code",
   "execution_count": null,
   "metadata": {},
   "outputs": [],
   "source": [
    "def generate(X):\n",
    "\n",
    "    elements = 'ACGT'\n",
    "\n",
    "    T = []\n",
    "    for x in X:\n",
    "        t = []\n",
    "        for i in range(1, 4 + 1, 1):\n",
    "            v = list(itertools.product(elements, repeat=i))\n",
    "            for i in v:\n",
    "                t.append(x.count(''.join(i)))\n",
    "        T.append(t)\n",
    "\n",
    "    T = np.array(T)\n",
    "\n",
    "    return T"
   ]
  },
  {
   "cell_type": "code",
   "execution_count": null,
   "metadata": {},
   "outputs": [],
   "source": [
    "v = generate(Sequences)\n",
    "np.save(file = \"k-mer\", arr = v)"
   ]
  },
  {
   "cell_type": "code",
   "execution_count": null,
   "metadata": {},
   "outputs": [],
   "source": [
    "v = []\n",
    "for sequence in Sequences:\n",
    "    v.append(reverseComplement(sequence))\n",
    "#end\n",
    "\n",
    "v = generate(v)\n",
    "np.save(file = \"rev-k-mer\", arr = v)"
   ]
  }
 ],
 "metadata": {
  "kernelspec": {
   "display_name": "Python 3",
   "language": "python",
   "name": "python3"
  },
  "language_info": {
   "codemirror_mode": {
    "name": "ipython",
    "version": 3
   },
   "file_extension": ".py",
   "mimetype": "text/x-python",
   "name": "python",
   "nbconvert_exporter": "python",
   "pygments_lexer": "ipython3",
   "version": "3.7.4"
  }
 },
 "nbformat": 4,
 "nbformat_minor": 4
}
