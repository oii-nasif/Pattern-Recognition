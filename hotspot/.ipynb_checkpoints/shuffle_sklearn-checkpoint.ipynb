{
 "cells": [
  {
   "cell_type": "code",
   "execution_count": 13,
   "metadata": {},
   "outputs": [],
   "source": [
    "import numpy as np\n",
    "from sklearn.utils import shuffle"
   ]
  },
  {
   "cell_type": "code",
   "execution_count": 14,
   "metadata": {},
   "outputs": [],
   "source": [
    "a = np.array([\n",
    "    [10, 20],\n",
    "    [11, 22],\n",
    "    [12, 24],\n",
    "    [13, 26],\n",
    "    [14, 28],    \n",
    "])\n",
    "b = np.array([\n",
    "    [15, 30],\n",
    "    [16, 32],\n",
    "    [17, 34],\n",
    "    [18, 36],\n",
    "    [19, 38],    \n",
    "])\n",
    "c = np.array([\n",
    "    [20, 40],\n",
    "    [21, 42],\n",
    "    [22, 44],\n",
    "    [23, 46],\n",
    "    [24, 48],    \n",
    "])\n",
    "d = np.array([0,1,2,3,4])\n",
    "\n",
    "a, b, c, d = shuffle(a, b, c, d, random_state = 101)\n",
    "\n"
   ]
  },
  {
   "cell_type": "code",
   "execution_count": 15,
   "metadata": {},
   "outputs": [],
   "source": [
    "X = np.concatenate((a, b, c),axis=1)"
   ]
  },
  {
   "cell_type": "code",
   "execution_count": 16,
   "metadata": {},
   "outputs": [
    {
     "data": {
      "text/plain": [
       "array([[10, 20, 15, 30, 20, 40],\n",
       "       [14, 28, 19, 38, 24, 48],\n",
       "       [12, 24, 17, 34, 22, 44],\n",
       "       [11, 22, 16, 32, 21, 42],\n",
       "       [13, 26, 18, 36, 23, 46]])"
      ]
     },
     "execution_count": 16,
     "metadata": {},
     "output_type": "execute_result"
    }
   ],
   "source": [
    "X"
   ]
  },
  {
   "cell_type": "code",
   "execution_count": 17,
   "metadata": {},
   "outputs": [
    {
     "data": {
      "text/plain": [
       "array([0, 4, 2, 1, 3])"
      ]
     },
     "execution_count": 17,
     "metadata": {},
     "output_type": "execute_result"
    }
   ],
   "source": [
    "d"
   ]
  },
  {
   "cell_type": "code",
   "execution_count": null,
   "metadata": {},
   "outputs": [],
   "source": []
  }
 ],
 "metadata": {
  "kernelspec": {
   "display_name": "Python 3",
   "language": "python",
   "name": "python3"
  },
  "language_info": {
   "codemirror_mode": {
    "name": "ipython",
    "version": 3
   },
   "file_extension": ".py",
   "mimetype": "text/x-python",
   "name": "python",
   "nbconvert_exporter": "python",
   "pygments_lexer": "ipython3",
   "version": "3.7.4"
  }
 },
 "nbformat": 4,
 "nbformat_minor": 4
}
