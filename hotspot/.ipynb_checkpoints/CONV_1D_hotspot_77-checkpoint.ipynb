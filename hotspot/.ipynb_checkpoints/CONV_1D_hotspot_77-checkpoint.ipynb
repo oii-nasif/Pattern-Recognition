{
 "cells": [
  {
   "cell_type": "code",
   "execution_count": 5,
   "metadata": {
    "colab": {},
    "colab_type": "code",
    "id": "9LnytVNRdJ8p"
   },
   "outputs": [],
   "source": [
    "import warnings; warnings.filterwarnings(\"ignore\")"
   ]
  },
  {
   "cell_type": "markdown",
   "metadata": {
    "colab_type": "text",
    "id": "CEjzUcFrdJ84"
   },
   "source": [
    "</br>\n",
    "\n",
    "* **data processing (Merge all data)**"
   ]
  },
  {
   "cell_type": "code",
   "execution_count": 6,
   "metadata": {
    "colab": {},
    "colab_type": "code",
    "id": "i4j0-Y2FdJ9B"
   },
   "outputs": [],
   "source": [
    "import numpy as np\n",
    "\n",
    "X_kmer = np.load('K-mer.npy')\n",
    "X_revk = np.load('rev-k-mer.npy')\n",
    "X_gapk = np.load('gapped_k_mer.npy')"
   ]
  },
  {
   "cell_type": "code",
   "execution_count": 7,
   "metadata": {
    "colab": {
     "base_uri": "https://localhost:8080/",
     "height": 71
    },
    "colab_type": "code",
    "id": "4yDk06BSdJ9I",
    "outputId": "acdd128d-8ff6-4d10-f214-b76dcf3e4c3a"
   },
   "outputs": [
    {
     "name": "stdout",
     "output_type": "stream",
     "text": [
      "(1081, 340)\n",
      "(1081, 340)\n",
      "(1081, 80)\n"
     ]
    }
   ],
   "source": [
    "print(X_kmer.shape)\n",
    "print(X_revk.shape)\n",
    "print(X_gapk.shape)"
   ]
  },
  {
   "cell_type": "code",
   "execution_count": 8,
   "metadata": {
    "colab": {
     "base_uri": "https://localhost:8080/",
     "height": 35
    },
    "colab_type": "code",
    "id": "7XnPH90-dJ9k",
    "outputId": "75acf3d7-f3e4-4523-9483-c5f8a34e2a9b"
   },
   "outputs": [
    {
     "name": "stdout",
     "output_type": "stream",
     "text": [
      "(1081,)\n"
     ]
    }
   ],
   "source": [
    "Y  = [1 for i in range(490)]\n",
    "Y += [0 for i in range(591)]\n",
    "Y = np.array(Y)\n",
    "print(Y.shape)"
   ]
  },
  {
   "cell_type": "code",
   "execution_count": 9,
   "metadata": {
    "colab": {},
    "colab_type": "code",
    "id": "67dVnbYZdJ92"
   },
   "outputs": [],
   "source": [
    "X = np.concatenate((X_kmer,X_revk, X_gapk),axis=1)"
   ]
  },
  {
   "cell_type": "code",
   "execution_count": 10,
   "metadata": {
    "colab": {
     "base_uri": "https://localhost:8080/",
     "height": 35
    },
    "colab_type": "code",
    "id": "3eM5XrzSdJ-E",
    "outputId": "f3bf8d48-2e9a-405e-8a73-0dc3e2244fa2"
   },
   "outputs": [
    {
     "data": {
      "text/plain": [
       "(1081, 760)"
      ]
     },
     "execution_count": 10,
     "metadata": {},
     "output_type": "execute_result"
    }
   ],
   "source": [
    "X.shape"
   ]
  },
  {
   "cell_type": "markdown",
   "metadata": {
    "colab_type": "text",
    "id": "XbqhE4mmdJ-I"
   },
   "source": [
    "</br>\n",
    "\n",
    "* **Shuffle**"
   ]
  },
  {
   "cell_type": "code",
   "execution_count": 11,
   "metadata": {
    "colab": {
     "base_uri": "https://localhost:8080/",
     "height": 53
    },
    "colab_type": "code",
    "id": "1ivwAp2CdJ-J",
    "outputId": "873be45b-162c-4141-d8fd-1aa469af347a"
   },
   "outputs": [
    {
     "name": "stdout",
     "output_type": "stream",
     "text": [
      "(1081, 760)\n",
      "(1081,)\n"
     ]
    }
   ],
   "source": [
    "from sklearn.utils import shuffle\n",
    "X, Y = shuffle(X, Y, random_state=0)\n",
    "\n",
    "print(X.shape)\n",
    "print(Y.shape)"
   ]
  },
  {
   "cell_type": "code",
   "execution_count": 12,
   "metadata": {
    "colab": {
     "base_uri": "https://localhost:8080/",
     "height": 35
    },
    "colab_type": "code",
    "id": "-rkWh4G2dJ-e",
    "outputId": "75a01163-35ce-4ecd-8a1e-081a9cc24672"
   },
   "outputs": [
    {
     "data": {
      "text/plain": [
       "(1081, 760)"
      ]
     },
     "execution_count": 12,
     "metadata": {},
     "output_type": "execute_result"
    }
   ],
   "source": [
    "X.shape"
   ]
  },
  {
   "cell_type": "code",
   "execution_count": 13,
   "metadata": {
    "colab": {
     "base_uri": "https://localhost:8080/",
     "height": 35
    },
    "colab_type": "code",
    "id": "spLyOkO5dJ_P",
    "outputId": "c8281766-5719-4cbf-d3ed-f6d3caa8dcfa"
   },
   "outputs": [
    {
     "data": {
      "text/plain": [
       "(1081, 760, 1)"
      ]
     },
     "execution_count": 13,
     "metadata": {},
     "output_type": "execute_result"
    }
   ],
   "source": [
    "X = X.reshape(-1, 760, 1)\n",
    "X.shape"
   ]
  },
  {
   "cell_type": "code",
   "execution_count": 14,
   "metadata": {
    "colab": {
     "base_uri": "https://localhost:8080/",
     "height": 35
    },
    "colab_type": "code",
    "id": "WKCZlz3TdJ_T",
    "outputId": "93cd8b96-e8b3-4ed7-be6a-e384c1b5587c"
   },
   "outputs": [
    {
     "data": {
      "text/plain": [
       "(760, 1)"
      ]
     },
     "execution_count": 14,
     "metadata": {},
     "output_type": "execute_result"
    }
   ],
   "source": [
    "X[0].shape"
   ]
  },
  {
   "cell_type": "code",
   "execution_count": 15,
   "metadata": {
    "colab": {},
    "colab_type": "code",
    "id": "BzS42lkRdJ_c"
   },
   "outputs": [
    {
     "name": "stdout",
     "output_type": "stream",
     "text": [
      "We're using TF-2.3.0.\n"
     ]
    }
   ],
   "source": [
    "# Deep Neural Networks:\n",
    "import tensorflow as tf; print('We\\'re using TF-{}.'.format(tf.__version__))\n",
    "from tensorflow.keras.layers import (Input, Dense, Dropout, Flatten, BatchNormalization,\n",
    "                                     Conv1D, Conv2D, MaxPooling1D, MaxPooling2D,\n",
    "                                     LSTM, GRU, Embedding, Bidirectional, Concatenate)\n",
    "from tensorflow.keras.regularizers import (l1, l2, l1_l2)\n",
    "from tensorflow.keras.optimizers import (RMSprop, Adam, SGD)\n",
    "from tensorflow.keras.models import (Sequential, Model)\n",
    "\n",
    "\n",
    "# Core:\n",
    "import numpy as np\n",
    "import pandas as pd\n",
    "import matplotlib.pyplot as plt\n",
    "from scipy import interp\n",
    "import matplotlib.patches as patches\n",
    "\n",
    "# Performance:\n",
    "from sklearn.metrics import (confusion_matrix, classification_report, matthews_corrcoef, precision_score, roc_curve, auc)\n",
    "from sklearn.model_selection import (StratifiedKFold, KFold, train_test_split)\n",
    "\n",
    "#Utilities:\n",
    "from tensorflow.keras.callbacks import EarlyStopping, ModelCheckpoint\n",
    "from tensorflow.keras.utils import to_categorical as labelEncoding   \n",
    "from tensorflow.keras.utils import plot_model                        \n",
    "#end-import"
   ]
  },
  {
   "cell_type": "code",
   "execution_count": 16,
   "metadata": {
    "colab": {
     "base_uri": "https://localhost:8080/",
     "height": 143
    },
    "colab_type": "code",
    "id": "d6oAVAYPdJ_s",
    "outputId": "b41d3604-d7e8-49a6-a960-9bf2fad7d11e"
   },
   "outputs": [
    {
     "data": {
      "text/plain": [
       "array([[1, 0],\n",
       "       [1, 0],\n",
       "       [1, 0],\n",
       "       ...,\n",
       "       [1, 0],\n",
       "       [1, 0],\n",
       "       [1, 0]])"
      ]
     },
     "execution_count": 16,
     "metadata": {},
     "output_type": "execute_result"
    }
   ],
   "source": [
    "Y = labelEncoding(Y, dtype=int)\n",
    "Y"
   ]
  },
  {
   "cell_type": "code",
   "execution_count": 17,
   "metadata": {
    "colab": {},
    "colab_type": "code",
    "id": "ZbIAHMacl1mV"
   },
   "outputs": [],
   "source": [
    "def lossPlot(results):\n",
    "    plt.title(label='Loss: Training and Validation')\n",
    "    plt.plot(results.history['loss'], label='Training Loss')\n",
    "    plt.plot(results.history['val_loss'], label='Validation Loss')\n",
    "    plt.xlabel('Epoch')\n",
    "    plt.ylabel('Loss')\n",
    "    plt.legend()\n",
    "    plt.show()\n",
    "\n",
    "\n",
    "def accuracyPlot(results):\n",
    "    plt.title(label='Accuracy: Training and Validation')\n",
    "    plt.plot(results.history['accuracy'], label='Training Accuracy')\n",
    "    plt.plot(results.history['val_accuracy'], label='Validation Accuracy')\n",
    "    plt.xlabel('Epoch')\n",
    "    plt.ylabel('Accuracy')\n",
    "    plt.legend()\n",
    "    plt.show()\n",
    "\n",
    "\n",
    "def rocPlot(TPR, meanFPR):\n",
    "    plt.plot([0,1], [0,1],linestyle = '--',lw = 2,color = 'black')\n",
    "    meanTPR = np.mean(TPR, axis=0)\n",
    "    meanAUC = auc(meanFPR, meanTPR)\n",
    "    plt.plot(meanFPR, meanTPR, color='blue',\n",
    "            label=r'Mean ROC (AUC = %0.2f )' % (meanAUC),lw=2, alpha=1)\n",
    "\n",
    "    plt.xlabel('False Positive Rate (FPR)')\n",
    "    plt.ylabel('True Positive Rate (TPR)')\n",
    "    plt.title('Receiver Operating Characteristic Curve (ROC Curve)')\n",
    "    plt.legend(loc=\"lower right\")\n",
    "    plt.savefig('ROC-240.png')\n",
    "    plt.show()\n"
   ]
  },
  {
   "cell_type": "code",
   "execution_count": 18,
   "metadata": {
    "colab": {},
    "colab_type": "code",
    "id": "Kv8PCMf2dJ_0"
   },
   "outputs": [],
   "source": [
    "def Network():\n",
    "    input1 = Input(shape=(760, 1))\n",
    "\n",
    " \n",
    "    x = Conv1D(filters=16, kernel_size=4, padding='same', activation='relu', kernel_regularizer=l2(l=0.01))(input1)\n",
    "    x = BatchNormalization()(x)\n",
    "    x = Dropout(rate=0.80)(x)\n",
    "    \n",
    "    x = Flatten()(x)\n",
    "        \n",
    "    x = Dense(units=16, activation='relu', kernel_regularizer=l2(l=0.01))(x)\n",
    "    x = Dropout(rate=0.80)(x)\n",
    "    x = Dense(units=8, activation='relu', kernel_regularizer=l2(l=0.01))(x)\n",
    "    o = Dense(units=2, activation='softmax')(x)\n",
    "\n",
    "    return Model(inputs=[input1], outputs=[o])\n"
   ]
  },
  {
   "cell_type": "code",
   "execution_count": 19,
   "metadata": {
    "colab": {
     "base_uri": "https://localhost:8080/",
     "height": 1000
    },
    "colab_type": "code",
    "id": "2tI_Xa1QdJ_7",
    "outputId": "db3ed316-243a-4a1b-d2cc-6eb1dd392414"
   },
   "outputs": [
    {
     "name": "stdout",
     "output_type": "stream",
     "text": [
      "Model: \"functional_1\"\n",
      "_________________________________________________________________\n",
      "Layer (type)                 Output Shape              Param #   \n",
      "=================================================================\n",
      "input_1 (InputLayer)         [(None, 760, 1)]          0         \n",
      "_________________________________________________________________\n",
      "conv1d (Conv1D)              (None, 760, 16)           80        \n",
      "_________________________________________________________________\n",
      "batch_normalization (BatchNo (None, 760, 16)           64        \n",
      "_________________________________________________________________\n",
      "dropout (Dropout)            (None, 760, 16)           0         \n",
      "_________________________________________________________________\n",
      "flatten (Flatten)            (None, 12160)             0         \n",
      "_________________________________________________________________\n",
      "dense (Dense)                (None, 16)                194576    \n",
      "_________________________________________________________________\n",
      "dropout_1 (Dropout)          (None, 16)                0         \n",
      "_________________________________________________________________\n",
      "dense_1 (Dense)              (None, 8)                 136       \n",
      "_________________________________________________________________\n",
      "dense_2 (Dense)              (None, 2)                 18        \n",
      "=================================================================\n",
      "Total params: 194,874\n",
      "Trainable params: 194,842\n",
      "Non-trainable params: 32\n",
      "_________________________________________________________________\n",
      "('Failed to import pydot. You must `pip install pydot` and install graphviz (https://graphviz.gitlab.io/download/), ', 'for `pydotprint` to work.')\n"
     ]
    }
   ],
   "source": [
    "model = Network()\n",
    "model.summary()\n",
    "plot_model(model, to_file='model-Nasif.png', show_shapes=True, show_layer_names=False, expand_nested=True)"
   ]
  },
  {
   "cell_type": "code",
   "execution_count": 20,
   "metadata": {
    "colab": {
     "base_uri": "https://localhost:8080/",
     "height": 35
    },
    "colab_type": "code",
    "id": "I6mqhjVVdKAD",
    "outputId": "660f646f-0b24-4cca-ccfe-dd90a688649e"
   },
   "outputs": [
    {
     "data": {
      "text/plain": [
       "(1081, 760, 1)"
      ]
     },
     "execution_count": 20,
     "metadata": {},
     "output_type": "execute_result"
    }
   ],
   "source": [
    "X.shape"
   ]
  },
  {
   "cell_type": "code",
   "execution_count": null,
   "metadata": {
    "colab": {
     "base_uri": "https://localhost:8080/",
     "height": 1000
    },
    "colab_type": "code",
    "id": "aRGxPG3AdKAO",
    "outputId": "42acd2ac-418d-45ff-d6f1-d86365e36123"
   },
   "outputs": [
    {
     "name": "stdout",
     "output_type": "stream",
     "text": [
      "Epoch 1/100\n",
      "108/108 [==============================] - 1s 10ms/step - loss: 1.3160 - accuracy: 0.4641 - val_loss: 0.9988 - val_accuracy: 0.5161\n",
      "Epoch 2/100\n",
      "108/108 [==============================] - 1s 7ms/step - loss: 1.0003 - accuracy: 0.5509 - val_loss: 0.9793 - val_accuracy: 0.5115\n",
      "Epoch 3/100\n",
      "108/108 [==============================] - 1s 8ms/step - loss: 0.9765 - accuracy: 0.5544 - val_loss: 0.9593 - val_accuracy: 0.5115\n",
      "Epoch 4/100\n",
      "108/108 [==============================] - 1s 8ms/step - loss: 0.9453 - accuracy: 0.5579 - val_loss: 0.9336 - val_accuracy: 0.5161\n",
      "Epoch 5/100\n",
      "108/108 [==============================] - 1s 8ms/step - loss: 0.9286 - accuracy: 0.5567 - val_loss: 0.9170 - val_accuracy: 0.5161\n",
      "Epoch 6/100\n",
      "108/108 [==============================] - 1s 10ms/step - loss: 0.9221 - accuracy: 0.5556 - val_loss: 0.9129 - val_accuracy: 0.5115\n",
      "Epoch 7/100\n",
      "108/108 [==============================] - 1s 8ms/step - loss: 0.8971 - accuracy: 0.5567 - val_loss: 0.9034 - val_accuracy: 0.5115\n",
      "Epoch 8/100\n",
      "108/108 [==============================] - 1s 8ms/step - loss: 0.8627 - accuracy: 0.5613 - val_loss: 0.8748 - val_accuracy: 0.5253\n",
      "Epoch 9/100\n",
      "108/108 [==============================] - 1s 9ms/step - loss: 0.8876 - accuracy: 0.5718 - val_loss: 0.8587 - val_accuracy: 0.5760\n",
      "Epoch 10/100\n",
      "108/108 [==============================] - 1s 8ms/step - loss: 0.8693 - accuracy: 0.5752 - val_loss: 0.8434 - val_accuracy: 0.6728\n",
      "Epoch 11/100\n",
      "108/108 [==============================] - 1s 8ms/step - loss: 0.8515 - accuracy: 0.5810 - val_loss: 0.8425 - val_accuracy: 0.5899\n",
      "Epoch 12/100\n",
      "108/108 [==============================] - 1s 8ms/step - loss: 0.8411 - accuracy: 0.5891 - val_loss: 0.8270 - val_accuracy: 0.6912\n",
      "Epoch 13/100\n",
      "108/108 [==============================] - 1s 8ms/step - loss: 0.8197 - accuracy: 0.6123 - val_loss: 0.8289 - val_accuracy: 0.6083\n",
      "Epoch 14/100\n",
      "108/108 [==============================] - 1s 9ms/step - loss: 0.8453 - accuracy: 0.5752 - val_loss: 0.8198 - val_accuracy: 0.5760\n",
      "Epoch 15/100\n",
      " 55/108 [==============>...............] - ETA: 0s - loss: 0.8395 - accuracy: 0.6159"
     ]
    }
   ],
   "source": [
    "setEpochNumber     = 100     # Performed-well in epoch 100\n",
    "setBatchSizeNumber = 8\n",
    "\n",
    "fold = 5\n",
    "cv = KFold(n_splits=fold, shuffle=True, random_state=101)\n",
    "\n",
    "Accuracy = []\n",
    "Sensitivity = []\n",
    "Specificity = []\n",
    "Precision = []\n",
    "MCC = []\n",
    "\n",
    "# ROC Curve:\n",
    "fig = plt.figure(figsize=[12,12])\n",
    "\n",
    "TPR = []\n",
    "meanFPR = np.linspace(0, 1, 100)\n",
    "\n",
    "i = 1\n",
    "plotCount = 1\n",
    "\n",
    "\n",
    "for train, test in cv.split(Y):\n",
    "\n",
    "    # Compile Model:\n",
    "    model = Network()\n",
    "    model.compile(optimizer=Adam(learning_rate=0.0005),\n",
    "                  loss='categorical_crossentropy',\n",
    "                  metrics=['accuracy'])\n",
    "\n",
    "\n",
    "    # Run Model:\n",
    "    results = model.fit(x=X[train,:,:],\n",
    "                        y=Y[train,:],\n",
    "                        validation_data=(X[test,:,:], Y[test,:]),\n",
    "                        batch_size=setBatchSizeNumber, epochs=setEpochNumber,\n",
    "                        callbacks = [],\n",
    "              )\n",
    "\n",
    "    accuracy = model.evaluate(x=X[test,:,:], y=Y[test,:], batch_size=setBatchSizeNumber)\n",
    "    Accuracy.append(accuracy[1])\n",
    "\n",
    "    # Performance Metices:\n",
    "    Yactual = Y[test,:].argmax(axis=1)\n",
    "    Yp = model.predict(X[test,:,:])\n",
    "    v = Yp\n",
    "    Yp = Yp.argmax(axis=1)\n",
    "\n",
    "    CM = confusion_matrix(y_pred=Yp, y_true=Yactual)\n",
    "    TN, FP, FN, TP = CM.ravel()\n",
    "\n",
    "    MCC.append(matthews_corrcoef(y_true=Yactual, y_pred=Yp))\n",
    "    Sensitivity.append( TP / (TP + FN) )\n",
    "    Specificity.append( TN / (TN + FP) )\n",
    "    Precision.append(precision_score(y_true=Yactual, y_pred=Yp))\n",
    "    \n",
    "    # ROC Curve\n",
    "    fpr, tpr, _ = roc_curve(Yactual, v[:,1])\n",
    "    TPR.append(interp(meanFPR, fpr, tpr))\n",
    "    rocauc = auc(fpr, tpr)\n",
    "    plt.plot(fpr, tpr, lw=2, alpha=0.3, label='ROC fold %d (AUC = %0.2f)' % (i, rocauc))\n",
    "    i= i+1\n",
    "    \n",
    "    # Performance Plot\n",
    "    print('____________________________________________________')\n",
    "    print('Fold\\'s Accuracy-{}: {:.2f}'.format(plotCount, accuracy[1]*100.0))\n",
    "    # lossPlot(results)\n",
    "    # accuracyPlot(results)\n",
    "    plotCount += 1\n",
    "    print('____________________________________________________')\n",
    "\n",
    "\n",
    "\n",
    "rocPlot(TPR, meanFPR)\n",
    "\n",
    "print('Accuracy [Each Fold]: {}'.format(Accuracy))\n",
    "print('Accuracy: {:.2f}'.format(np.sum(Accuracy)/fold))\n",
    "print('Sensitivity: {0:.4f}'.format(np.sum(Sensitivity)/fold))\n",
    "print('Specificity: {0:.4f}'.format(np.sum(Specificity)/fold))\n",
    "print('MCC: {0:.4f}'.format(np.sum(MCC)/fold))\n",
    "print('Precision: {0:.4f}'.format(np.sum(Precision)/fold))"
   ]
  },
  {
   "cell_type": "code",
   "execution_count": null,
   "metadata": {
    "colab": {},
    "colab_type": "code",
    "id": "GqJ1kQYDdKAQ"
   },
   "outputs": [],
   "source": []
  },
  {
   "cell_type": "code",
   "execution_count": null,
   "metadata": {
    "colab": {},
    "colab_type": "code",
    "id": "2uG_u6cYdKAa"
   },
   "outputs": [],
   "source": []
  }
 ],
 "metadata": {
  "accelerator": "GPU",
  "colab": {
   "collapsed_sections": [],
   "name": "CONV_1D_hotspot_77.ipynb",
   "provenance": []
  },
  "kernelspec": {
   "display_name": "Python 3",
   "language": "python",
   "name": "python3"
  },
  "language_info": {
   "codemirror_mode": {
    "name": "ipython",
    "version": 3
   },
   "file_extension": ".py",
   "mimetype": "text/x-python",
   "name": "python",
   "nbconvert_exporter": "python",
   "pygments_lexer": "ipython3",
   "version": "3.7.4"
  }
 },
 "nbformat": 4,
 "nbformat_minor": 4
}
