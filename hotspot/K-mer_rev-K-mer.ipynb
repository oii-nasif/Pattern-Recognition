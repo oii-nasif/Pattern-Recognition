{
 "cells": [
  {
   "cell_type": "code",
   "execution_count": 40,
   "metadata": {},
   "outputs": [],
   "source": [
    "def readFASTAs(fileName):\n",
    "\n",
    "    with open(fileName, 'r') as file:\n",
    "        v = []\n",
    "        genome = ''\n",
    "        for line in file:\n",
    "            if line[0] != '>':\n",
    "                genome += line.strip()\n",
    "            else:\n",
    "                v.append(genome.upper())\n",
    "                genome = ''\n",
    "        v.append(genome.upper())\n",
    "        del v[0]\n",
    "        return v"
   ]
  },
  {
   "cell_type": "code",
   "execution_count": 41,
   "metadata": {},
   "outputs": [],
   "source": [
    "Sequences = readFASTAs('hotCold.txt')"
   ]
  },
  {
   "cell_type": "code",
   "execution_count": 42,
   "metadata": {},
   "outputs": [
    {
     "data": {
      "text/plain": [
       "1081"
      ]
     },
     "execution_count": 42,
     "metadata": {},
     "output_type": "execute_result"
    }
   ],
   "source": [
    "len(Sequences)"
   ]
  },
  {
   "cell_type": "code",
   "execution_count": 43,
   "metadata": {},
   "outputs": [],
   "source": [
    "import itertools\n",
    "import numpy as np"
   ]
  },
  {
   "cell_type": "code",
   "execution_count": 44,
   "metadata": {},
   "outputs": [],
   "source": [
    "def generate(X):\n",
    "\n",
    "    elements = 'ACGT'\n",
    "\n",
    "    T = []\n",
    "    for x in X:\n",
    "        t = []\n",
    "        for i in range(1, 4 + 1, 1):\n",
    "            v = list(itertools.product(elements, repeat=i))\n",
    "            for i in v:\n",
    "                t.append(x.count(''.join(i)))\n",
    "        T.append(t)\n",
    "\n",
    "    T = np.array(T)\n",
    "\n",
    "    return T"
   ]
  },
  {
   "cell_type": "markdown",
   "metadata": {},
   "source": [
    "<br/>\n",
    "\n",
    "* K-mer "
   ]
  },
  {
   "cell_type": "code",
   "execution_count": 45,
   "metadata": {},
   "outputs": [],
   "source": [
    "K_mer = generate(Sequences)\n",
    "np.save(file = \"K-mer\", arr = K_mer)"
   ]
  },
  {
   "cell_type": "markdown",
   "metadata": {},
   "source": [
    "<br/>\n",
    "\n",
    "* Reverse complement composition of k-mers"
   ]
  },
  {
   "cell_type": "code",
   "execution_count": 46,
   "metadata": {},
   "outputs": [],
   "source": [
    "rev_k = []\n",
    "for sequence in Sequences:\n",
    "    rev_k.append(reverseComplement(sequence))\n",
    "\n",
    "rev_k = generate(rev_k)\n",
    "np.save(file = \"rev-k-mer\", arr = rev_k)"
   ]
  },
  {
   "cell_type": "code",
   "execution_count": 47,
   "metadata": {},
   "outputs": [
    {
     "name": "stdout",
     "output_type": "stream",
     "text": [
      "[[35 39 31 ...  2  0  0]\n",
      " [38 23 44 ...  0  0  0]\n",
      " [36 32 35 ...  0  1  0]\n",
      " ...\n",
      " [37 28 32 ...  1  1  1]\n",
      " [37 28 32 ...  1  1  1]\n",
      " [29 34 27 ...  1  2  1]]\n",
      "\n",
      "[[26 31 39 ...  0  1  1]\n",
      " [26 44 23 ...  0  1  0]\n",
      " [28 35 32 ...  0  1  0]\n",
      " ...\n",
      " [34 32 28 ...  1  1  2]\n",
      " [34 32 28 ...  1  1  2]\n",
      " [41 27 34 ...  0  1  0]]\n"
     ]
    }
   ],
   "source": [
    "K_mer    = np.load('K-mer.npy')\n",
    "rev_k    = np.load('rev-k-mer.npy')\n",
    "print(K_mer)\n",
    "print(\"\")\n",
    "print(rev_k)"
   ]
  },
  {
   "cell_type": "code",
   "execution_count": null,
   "metadata": {},
   "outputs": [],
   "source": []
  },
  {
   "cell_type": "code",
   "execution_count": null,
   "metadata": {},
   "outputs": [],
   "source": []
  }
 ],
 "metadata": {
  "kernelspec": {
   "display_name": "Python 3",
   "language": "python",
   "name": "python3"
  },
  "language_info": {
   "codemirror_mode": {
    "name": "ipython",
    "version": 3
   },
   "file_extension": ".py",
   "mimetype": "text/x-python",
   "name": "python",
   "nbconvert_exporter": "python",
   "pygments_lexer": "ipython3",
   "version": "3.7.4"
  }
 },
 "nbformat": 4,
 "nbformat_minor": 4
}
