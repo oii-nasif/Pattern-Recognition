{
  "nbformat": 4,
  "nbformat_minor": 0,
  "metadata": {
    "colab": {
      "name": "classifier_hotspot.ipynb",
      "provenance": []
    },
    "kernelspec": {
      "name": "python3",
      "display_name": "Python 3"
    }
  },
  "cells": [
    {
      "cell_type": "code",
      "metadata": {
        "id": "hAAWfeT0WEWT",
        "colab_type": "code",
        "colab": {}
      },
      "source": [
        "import warnings\n",
        "warnings.filterwarnings(action='ignore',)"
      ],
      "execution_count": 75,
      "outputs": []
    },
    {
      "cell_type": "code",
      "metadata": {
        "id": "_bM8686dWRPE",
        "colab_type": "code",
        "colab": {}
      },
      "source": [
        "# Core:\n",
        "import pandas as pd\n",
        "import numpy as np\n",
        "import matplotlib.pyplot as plt\n",
        "\n",
        "\n",
        "# Machine Learning Algorithms\"\n",
        "\n",
        "from sklearn.svm import SVC\n",
        "from sklearn.linear_model import LogisticRegression\n",
        "from sklearn.neighbors import KNeighborsClassifier\n",
        "from sklearn.tree import DecisionTreeClassifier\n",
        "from sklearn.naive_bayes import GaussianNB\n",
        "from sklearn.ensemble import RandomForestClassifier, AdaBoostClassifier\n",
        "\n",
        "\n",
        "from sklearn.metrics import matthews_corrcoef\n",
        "from sklearn.metrics import precision_score\n",
        "\n",
        "\n",
        "# Dataset Handle\n",
        "from sklearn.model_selection import (train_test_split, cross_val_score, GridSearchCV)\n",
        "from sklearn.preprocessing import StandardScaler\n",
        "\n",
        "\n",
        "# Performance:\n",
        "from sklearn.metrics import (confusion_matrix, accuracy_score, classification_report)\n",
        "\n",
        "from sklearn.metrics import accuracy_score, \\\n",
        "        confusion_matrix, \\\n",
        "        roc_auc_score,\\\n",
        "        average_precision_score,\\\n",
        "        roc_curve, f1_score, recall_score, matthews_corrcoef, auc\n"
      ],
      "execution_count": 89,
      "outputs": []
    },
    {
      "cell_type": "code",
      "metadata": {
        "id": "KbNCNg7sW75O",
        "colab_type": "code",
        "colab": {}
      },
      "source": [
        "X_kmer = np.load('K-mer.npy')\n",
        "X_revk = np.load('rev-k-mer.npy')\n",
        "X_gapk = np.load('gapped_k_mer.npy')"
      ],
      "execution_count": 90,
      "outputs": []
    },
    {
      "cell_type": "code",
      "metadata": {
        "id": "3FbTiLYyXc6o",
        "colab_type": "code",
        "colab": {
          "base_uri": "https://localhost:8080/",
          "height": 35
        },
        "outputId": "bdc27174-3ad6-4feb-932e-d634c7f5407c"
      },
      "source": [
        "Y  = [1 for i in range(490)]\n",
        "Y += [0 for i in range(591)]\n",
        "Y = np.array(Y)\n",
        "print(Y.shape)"
      ],
      "execution_count": 91,
      "outputs": [
        {
          "output_type": "stream",
          "text": [
            "(1081,)\n"
          ],
          "name": "stdout"
        }
      ]
    },
    {
      "cell_type": "code",
      "metadata": {
        "id": "qr4mYQUNXfIA",
        "colab_type": "code",
        "colab": {}
      },
      "source": [
        "X = np.concatenate((X_kmer,X_revk, X_gapk),axis=1)"
      ],
      "execution_count": 92,
      "outputs": []
    },
    {
      "cell_type": "code",
      "metadata": {
        "id": "Bi-JHcgYXhbg",
        "colab_type": "code",
        "colab": {
          "base_uri": "https://localhost:8080/",
          "height": 53
        },
        "outputId": "320673d2-aac0-433b-94a0-dc40d6fb6b31"
      },
      "source": [
        "from sklearn.utils import shuffle\n",
        "X, Y = shuffle(X, Y, random_state=0)\n",
        "\n",
        "print(X.shape)\n",
        "print(Y.shape)"
      ],
      "execution_count": 93,
      "outputs": [
        {
          "output_type": "stream",
          "text": [
            "(1081, 760)\n",
            "(1081,)\n"
          ],
          "name": "stdout"
        }
      ]
    },
    {
      "cell_type": "code",
      "metadata": {
        "id": "tF9-j6T4XkpB",
        "colab_type": "code",
        "colab": {
          "base_uri": "https://localhost:8080/",
          "height": 143
        },
        "outputId": "585b5253-cd54-422a-c3fe-8b4c8e5e1864"
      },
      "source": [
        "X"
      ],
      "execution_count": 94,
      "outputs": [
        {
          "output_type": "execute_result",
          "data": {
            "text/plain": [
              "array([[36, 25, 36, ...,  5,  9, 11],\n",
              "       [46, 25, 41, ...,  4,  6,  3],\n",
              "       [30, 32, 32, ...,  5,  9, 12],\n",
              "       ...,\n",
              "       [48, 27, 26, ...,  8,  5,  8],\n",
              "       [46, 17, 45, ...,  1,  9,  3],\n",
              "       [33, 24, 32, ...,  5,  8, 18]])"
            ]
          },
          "metadata": {
            "tags": []
          },
          "execution_count": 94
        }
      ]
    },
    {
      "cell_type": "code",
      "metadata": {
        "id": "9czTd1zNXrFx",
        "colab_type": "code",
        "colab": {}
      },
      "source": [
        "from sklearn.model_selection import train_test_split\n",
        "Xtrain, Xtest, Ytrain, Ytest = train_test_split(X, Y, test_size=0.30, random_state=101)"
      ],
      "execution_count": 95,
      "outputs": []
    },
    {
      "cell_type": "code",
      "metadata": {
        "id": "9n7y4Ls-X-Gh",
        "colab_type": "code",
        "colab": {}
      },
      "source": [
        "from sklearn.preprocessing import StandardScaler\n",
        "scaler = StandardScaler()\n",
        "\n",
        "Xtrain = scaler.fit_transform(Xtrain)\n",
        "Xtest = scaler.transform(Xtest)"
      ],
      "execution_count": 96,
      "outputs": []
    },
    {
      "cell_type": "code",
      "metadata": {
        "id": "CfVl7ur1ZAPP",
        "colab_type": "code",
        "colab": {}
      },
      "source": [
        "classifiers = [\n",
        "    LogisticRegression(),\n",
        "    KNeighborsClassifier(n_neighbors=5),\n",
        "    DecisionTreeClassifier(),\n",
        "    SVC(kernel='rbf', probability=True),\n",
        "    GaussianNB(),\n",
        "    RandomForestClassifier(),\n",
        "    AdaBoostClassifier(),\n",
        "]"
      ],
      "execution_count": 97,
      "outputs": []
    },
    {
      "cell_type": "code",
      "metadata": {
        "id": "ROqnKBrm1rXS",
        "colab_type": "code",
        "colab": {}
      },
      "source": [
        "def auROCplot():\n",
        "    ### auROC ###\n",
        "    plt.plot([0, 1], [0, 1], linestyle='--', lw=2, color='k', label='Random')\n",
        "    plt.xlim([0.0, 1.00])\n",
        "    plt.ylim([0.0, 1.02])\n",
        "    plt.xlabel('False Positive Rate (FPR)')\n",
        "    plt.ylabel('True Positive Rate (TPR)')\n",
        "    # plt.title('Receiver Operating Characteristic (ROC)')\n",
        "    plt.legend(loc='lower right')\n",
        "\n",
        "    plt.savefig('auROC_classifier.png', dpi=100)\n",
        "    plt.show()"
      ],
      "execution_count": 98,
      "outputs": []
    },
    {
      "cell_type": "code",
      "metadata": {
        "id": "CfL809tRYTsD",
        "colab_type": "code",
        "colab": {
          "base_uri": "https://localhost:8080/",
          "height": 1000
        },
        "outputId": "1194d080-761c-4dad-b793-6c621e118007"
      },
      "source": [
        "for classifier in classifiers:\n",
        "    model = classifier\n",
        "    model.fit(Xtrain, Ytrain)\n",
        "\n",
        "    # Task-1: 70/30\n",
        "    Yp = model.predict(Xtest)\n",
        "\n",
        "    #\n",
        "    auROC = []\n",
        "\n",
        "    mean_TPR = 0.0\n",
        "    mean_FPR = np.linspace(0, 1, 100)\n",
        "\n",
        "    FPR, TPR, _ = roc_curve(Ytest, Yp)\n",
        "    mean_TPR += np.interp(mean_FPR, FPR, TPR)\n",
        "    mean_TPR[0] = 0.0\n",
        "    roc_auc = auc(FPR, TPR)\n",
        "\n",
        "    auROC.append(roc_auc_score(Ytest, Yp))\n",
        "    mean_TPR[-1] = 1.0\n",
        "    mean_auc = auc(mean_FPR, mean_TPR)\n",
        "    plt.plot(\n",
        "    mean_FPR,\n",
        "    mean_TPR,\n",
        "    linestyle='-',\n",
        "    label='{} ({:0.3f})'.format(classifier.__class__.__name__, mean_auc), lw=2.0)\n",
        "    \n",
        "    #\n",
        "\n",
        "    Accuracy = []\n",
        "    Sensitivity = []\n",
        "    Specificity = []\n",
        "    Precision = []\n",
        "    MCC = []\n",
        "\n",
        "    CM = confusion_matrix(y_pred=Yp, y_true=Ytest)\n",
        "    TN, FP, FN, TP = CM.ravel()\n",
        "\n",
        "    MCC.append(matthews_corrcoef(y_true=Ytest, y_pred=Yp))\n",
        "    Sensitivity.append( TP / (TP + FN) )\n",
        "    Specificity.append( TN / (TN + FP) )\n",
        "    Precision.append(precision_score(y_true=Ytest, y_pred=Yp))\n",
        "\n",
        "    accuracy = accuracy_score(y_true=Ytest, y_pred=Yp)\n",
        "    print('Classifier: {}, Accuracy: {:0.2f}'.format(classifier.__class__.__name__, accuracy))\n",
        "    print('Sensitivity: {0:.2f}'.format(np.mean(Sensitivity)))\n",
        "    print('Specificity: {0:.2f}'.format(np.mean(Specificity)))\n",
        "    print('MCC: {0:.2f}'.format(np.mean(MCC)))\n",
        "    print('Precision: {0:.2f}'.format(np.mean(Precision)))\n",
        "    \n",
        "    # from sklearn.metrics import confusion_matrix\n",
        "    # print(confusion_matrix(Ytest, Yp))\n",
        "\n",
        "    print('_____________________________________________________')\n",
        "    print()\n",
        "auROCplot()  "
      ],
      "execution_count": 101,
      "outputs": [
        {
          "output_type": "stream",
          "text": [
            "Classifier: LogisticRegression, Accuracy: 0.67\n",
            "Sensitivity: 0.62\n",
            "Specificity: 0.71\n",
            "MCC: 0.33\n",
            "Precision: 0.64\n",
            "_____________________________________________________\n",
            "\n",
            "Classifier: KNeighborsClassifier, Accuracy: 0.69\n",
            "Sensitivity: 0.56\n",
            "Specificity: 0.80\n",
            "MCC: 0.36\n",
            "Precision: 0.70\n",
            "_____________________________________________________\n",
            "\n",
            "Classifier: DecisionTreeClassifier, Accuracy: 0.66\n",
            "Sensitivity: 0.62\n",
            "Specificity: 0.69\n",
            "MCC: 0.31\n",
            "Precision: 0.63\n",
            "_____________________________________________________\n",
            "\n",
            "Classifier: SVC, Accuracy: 0.76\n",
            "Sensitivity: 0.57\n",
            "Specificity: 0.91\n",
            "MCC: 0.52\n",
            "Precision: 0.85\n",
            "_____________________________________________________\n",
            "\n",
            "Classifier: GaussianNB, Accuracy: 0.72\n",
            "Sensitivity: 0.60\n",
            "Specificity: 0.82\n",
            "MCC: 0.44\n",
            "Precision: 0.74\n",
            "_____________________________________________________\n",
            "\n",
            "Classifier: RandomForestClassifier, Accuracy: 0.76\n",
            "Sensitivity: 0.56\n",
            "Specificity: 0.93\n",
            "MCC: 0.54\n",
            "Precision: 0.88\n",
            "_____________________________________________________\n",
            "\n",
            "Classifier: AdaBoostClassifier, Accuracy: 0.71\n",
            "Sensitivity: 0.59\n",
            "Specificity: 0.81\n",
            "MCC: 0.42\n",
            "Precision: 0.73\n",
            "_____________________________________________________\n",
            "\n"
          ],
          "name": "stdout"
        },
        {
          "output_type": "display_data",
          "data": {
            "image/png": "[encoded data removed]",
            "text/plain": [
              "<Figure size 432x288 with 1 Axes>"
            ]
          },
          "metadata": {
            "tags": [],
            "needs_background": "light"
          }
        }
      ]
    }
  ]
}