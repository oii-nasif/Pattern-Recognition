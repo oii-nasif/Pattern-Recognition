{
 "cells": [
  {
   "cell_type": "code",
   "execution_count": 1,
   "metadata": {},
   "outputs": [],
   "source": [
    "def readFASTAs(fileName):\n",
    "\n",
    "    with open(fileName, 'r') as file:\n",
    "        v = []\n",
    "        genome = ''\n",
    "        for line in file:\n",
    "            if line[0] != '>':\n",
    "                genome += line.strip()\n",
    "            else:\n",
    "                v.append(genome.upper())\n",
    "                genome = ''\n",
    "        v.append(genome.upper())\n",
    "        del v[0]\n",
    "        return v"
   ]
  },
  {
   "cell_type": "code",
   "execution_count": 4,
   "metadata": {},
   "outputs": [],
   "source": [
    "Sequences = readFASTAs('hotcoldspot.txt')"
   ]
  },
  {
   "cell_type": "code",
   "execution_count": 6,
   "metadata": {},
   "outputs": [
    {
     "data": {
      "text/plain": [
       "1081"
      ]
     },
     "execution_count": 6,
     "metadata": {},
     "output_type": "execute_result"
    }
   ],
   "source": [
    "len(Sequences)"
   ]
  },
  {
   "cell_type": "code",
   "execution_count": 14,
   "metadata": {},
   "outputs": [],
   "source": [
    "import itertools\n",
    "import numpy as np"
   ]
  },
  {
   "cell_type": "code",
   "execution_count": 21,
   "metadata": {},
   "outputs": [],
   "source": [
    "def generate(X):\n",
    "\n",
    "    elements = 'ACGT'\n",
    "\n",
    "    T = []\n",
    "    for x in X:\n",
    "        t = []\n",
    "        for i in range(1, 4 + 1, 1):\n",
    "            v = list(itertools.product(elements, repeat=i))\n",
    "            for i in v:\n",
    "                t.append(x.count(''.join(i)))\n",
    "        T.append(t)\n",
    "\n",
    "    T = np.array(T)\n",
    "\n",
    "    return T\n"
   ]
  },
  {
   "cell_type": "code",
   "execution_count": 22,
   "metadata": {},
   "outputs": [],
   "source": [
    "K_mer = generate(Sequences)"
   ]
  },
  {
   "cell_type": "code",
   "execution_count": 52,
   "metadata": {},
   "outputs": [
    {
     "data": {
      "text/plain": [
       "(1081, 340)"
      ]
     },
     "execution_count": 52,
     "metadata": {},
     "output_type": "execute_result"
    }
   ],
   "source": [
    "np.shape(K_mer)\n",
    "\n"
   ]
  },
  {
   "cell_type": "code",
   "execution_count": 33,
   "metadata": {},
   "outputs": [
    {
     "name": "stdout",
     "output_type": "stream",
     "text": [
      "[[35 39 31 ...  2  0  0]\n",
      " [38 23 44 ...  0  0  0]\n",
      " [36 32 35 ...  0  1  0]\n",
      " ...\n",
      " [37 28 32 ...  1  1  1]\n",
      " [37 28 32 ...  1  1  1]\n",
      " [29 34 27 ...  1  2  1]]\n"
     ]
    }
   ],
   "source": [
    "print(K_mer)"
   ]
  },
  {
   "cell_type": "code",
   "execution_count": 59,
   "metadata": {},
   "outputs": [
    {
     "name": "stdout",
     "output_type": "stream",
     "text": [
      "[0.22307692 0.26153846 0.20769231 0.31538462 0.03846154 0.07692308\n",
      " 0.03846154 0.06153846 0.08461538 0.03076923 0.03846154 0.1\n",
      " 0.03846154 0.06153846 0.04615385 0.05384615 0.05384615 0.08461538\n",
      " 0.07692308 0.06923077 0.00769231 0.02307692 0.01538462 0.\n",
      " 0.03076923 0.         0.02307692 0.01538462 0.00769231 0.00769231\n",
      " 0.01538462 0.00769231 0.00769231 0.01538462 0.01538462 0.02307692\n",
      " 0.02307692 0.00769231 0.01538462 0.03846154 0.00769231 0.\n",
      " 0.         0.02307692 0.00769231 0.00769231 0.01538462 0.00769231\n",
      " 0.02307692 0.02307692 0.03076923 0.02307692 0.00769231 0.03076923\n",
      " 0.         0.         0.01538462 0.00769231 0.01538462 0.02307692\n",
      " 0.02307692 0.01538462 0.00769231 0.00769231 0.01538462 0.01538462\n",
      " 0.00769231 0.01538462 0.00769231 0.01538462 0.00769231 0.02307692\n",
      " 0.03076923 0.01538462 0.         0.03846154 0.         0.03076923\n",
      " 0.01538462 0.02307692 0.00769231 0.03076923 0.02307692 0.02307692\n",
      " 0.         0.00769231 0.         0.         0.00769231 0.\n",
      " 0.01538462 0.         0.00769231 0.00769231 0.         0.\n",
      " 0.         0.         0.         0.         0.00769231 0.\n",
      " 0.00769231 0.01538462 0.         0.         0.         0.\n",
      " 0.00769231 0.         0.00769231 0.00769231 0.00769231 0.00769231\n",
      " 0.         0.         0.         0.00769231 0.         0.\n",
      " 0.         0.         0.00769231 0.         0.00769231 0.00769231\n",
      " 0.         0.         0.         0.00769231 0.         0.\n",
      " 0.         0.00769231 0.         0.         0.00769231 0.00769231\n",
      " 0.         0.         0.         0.         0.         0.01538462\n",
      " 0.         0.00769231 0.00769231 0.00769231 0.00769231 0.00769231\n",
      " 0.         0.         0.00769231 0.         0.         0.\n",
      " 0.         0.         0.00769231 0.00769231 0.00769231 0.01538462\n",
      " 0.         0.01538462 0.         0.         0.00769231 0.\n",
      " 0.         0.         0.         0.         0.         0.\n",
      " 0.         0.         0.         0.00769231 0.00769231 0.00769231\n",
      " 0.00769231 0.         0.         0.         0.         0.\n",
      " 0.         0.00769231 0.00769231 0.00769231 0.         0.\n",
      " 0.00769231 0.         0.         0.         0.         0.\n",
      " 0.00769231 0.01538462 0.01538462 0.         0.         0.00769231\n",
      " 0.         0.02307692 0.00769231 0.         0.00769231 0.00769231\n",
      " 0.         0.00769231 0.         0.         0.00769231 0.\n",
      " 0.00769231 0.         0.00769231 0.00769231 0.         0.\n",
      " 0.         0.         0.         0.         0.         0.\n",
      " 0.         0.         0.         0.01538462 0.         0.\n",
      " 0.         0.00769231 0.         0.00769231 0.00769231 0.\n",
      " 0.         0.00769231 0.01538462 0.         0.         0.02307692\n",
      " 0.         0.         0.00769231 0.         0.         0.00769231\n",
      " 0.00769231 0.         0.         0.         0.00769231 0.\n",
      " 0.         0.         0.         0.00769231 0.         0.00769231\n",
      " 0.         0.         0.         0.01538462 0.         0.\n",
      " 0.         0.00769231 0.         0.00769231 0.         0.00769231\n",
      " 0.         0.         0.00769231 0.         0.00769231 0.\n",
      " 0.         0.00769231 0.         0.         0.00769231 0.\n",
      " 0.         0.         0.01538462 0.00769231 0.01538462 0.00769231\n",
      " 0.         0.00769231 0.00769231 0.         0.         0.00769231\n",
      " 0.         0.         0.         0.         0.01538462 0.\n",
      " 0.00769231 0.01538462 0.         0.         0.         0.\n",
      " 0.00769231 0.00769231 0.00769231 0.00769231 0.         0.\n",
      " 0.00769231 0.00769231 0.         0.00769231 0.00769231 0.01538462\n",
      " 0.00769231 0.         0.         0.         0.00769231 0.00769231\n",
      " 0.         0.01538462 0.         0.00769231 0.00769231 0.00769231\n",
      " 0.         0.00769231 0.01538462 0.00769231]\n"
     ]
    }
   ],
   "source": [
    "for i in range(0, len(K_mer)):\n",
    "    sum=0\n",
    "    sum=(1/130)*K_mer[i]\n",
    "print(sum)\n",
    "    "
   ]
  },
  {
   "cell_type": "code",
   "execution_count": 63,
   "metadata": {},
   "outputs": [
    {
     "ename": "ValueError",
     "evalue": "The truth value of an array with more than one element is ambiguous. Use a.any() or a.all()",
     "output_type": "error",
     "traceback": [
      "\u001b[1;31m---------------------------------------------------------------------------\u001b[0m",
      "\u001b[1;31mValueError\u001b[0m                                Traceback (most recent call last)",
      "\u001b[1;32m<ipython-input-63-5b148c0e9031>\u001b[0m in \u001b[0;36m<module>\u001b[1;34m\u001b[0m\n\u001b[0;32m      1\u001b[0m \u001b[1;32mfor\u001b[0m \u001b[0mi\u001b[0m \u001b[1;32min\u001b[0m \u001b[0mrange\u001b[0m\u001b[1;33m(\u001b[0m\u001b[1;36m0\u001b[0m\u001b[1;33m,\u001b[0m \u001b[0mlen\u001b[0m\u001b[1;33m(\u001b[0m\u001b[0mK_mer\u001b[0m\u001b[1;33m)\u001b[0m\u001b[1;33m)\u001b[0m\u001b[1;33m:\u001b[0m\u001b[1;33m\u001b[0m\u001b[1;33m\u001b[0m\u001b[0m\n\u001b[1;32m----> 2\u001b[1;33m     \u001b[1;32mif\u001b[0m  \u001b[0mK_mer\u001b[0m\u001b[1;33m[\u001b[0m\u001b[0mi\u001b[0m\u001b[1;33m]\u001b[0m\u001b[1;33m>\u001b[0m \u001b[1;36m0\u001b[0m\u001b[1;33m:\u001b[0m\u001b[1;33m\u001b[0m\u001b[1;33m\u001b[0m\u001b[0m\n\u001b[0m\u001b[0;32m      3\u001b[0m         \u001b[0mtdf\u001b[0m\u001b[1;33m=\u001b[0m\u001b[1;36m0\u001b[0m\u001b[1;33m\u001b[0m\u001b[1;33m\u001b[0m\u001b[0m\n\u001b[0;32m      4\u001b[0m         \u001b[0mtdf\u001b[0m\u001b[1;33m=\u001b[0m \u001b[0mnp\u001b[0m\u001b[1;33m.\u001b[0m\u001b[0mlog\u001b[0m\u001b[1;33m(\u001b[0m\u001b[1;36m1081\u001b[0m\u001b[1;33m/\u001b[0m\u001b[0mK_mer\u001b[0m\u001b[1;33m[\u001b[0m\u001b[0mi\u001b[0m\u001b[1;33m]\u001b[0m\u001b[1;33m)\u001b[0m\u001b[1;33m\u001b[0m\u001b[1;33m\u001b[0m\u001b[0m\n\u001b[0;32m      5\u001b[0m \u001b[0mprint\u001b[0m\u001b[1;33m(\u001b[0m\u001b[0mtdf\u001b[0m\u001b[1;33m)\u001b[0m\u001b[1;33m\u001b[0m\u001b[1;33m\u001b[0m\u001b[0m\n",
      "\u001b[1;31mValueError\u001b[0m: The truth value of an array with more than one element is ambiguous. Use a.any() or a.all()"
     ]
    }
   ],
   "source": [
    "for i in range(0, len(K_mer)):\n",
    "    if  K_mer[i]> 0:\n",
    "        tdf=0\n",
    "        tdf= np.log(1081/K_mer[i])\n",
    "print(tdf)\n",
    "\n",
    "    \n"
   ]
  },
  {
   "cell_type": "code",
   "execution_count": null,
   "metadata": {},
   "outputs": [],
   "source": []
  }
 ],
 "metadata": {
  "kernelspec": {
   "display_name": "Python 3",
   "language": "python",
   "name": "python3"
  },
  "language_info": {
   "codemirror_mode": {
    "name": "ipython",
    "version": 3
   },
   "file_extension": ".py",
   "mimetype": "text/x-python",
   "name": "python",
   "nbconvert_exporter": "python",
   "pygments_lexer": "ipython3",
   "version": "3.7.4"
  }
 },
 "nbformat": 4,
 "nbformat_minor": 2
}
