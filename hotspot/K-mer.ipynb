{
 "cells": [
  {
   "cell_type": "code",
   "execution_count": 39,
   "metadata": {},
   "outputs": [],
   "source": [
    "def readFASTAs(fileName):\n",
    "\n",
    "    with open(fileName, 'r') as file:\n",
    "        v = []\n",
    "        genome = ''\n",
    "        for line in file:\n",
    "            if line[0] != '>':\n",
    "                genome += line.strip()\n",
    "            else:\n",
    "                v.append(genome.upper())\n",
    "                genome = ''\n",
    "        v.append(genome.upper())\n",
    "        del v[0]\n",
    "        return v"
   ]
  },
  {
   "cell_type": "code",
   "execution_count": 40,
   "metadata": {},
   "outputs": [],
   "source": [
    "Sequences = readFASTAs('hotCold.txt')"
   ]
  },
  {
   "cell_type": "code",
   "execution_count": 41,
   "metadata": {},
   "outputs": [
    {
     "data": {
      "text/plain": [
       "1081"
      ]
     },
     "execution_count": 41,
     "metadata": {},
     "output_type": "execute_result"
    }
   ],
   "source": [
    "len(Sequences)"
   ]
  },
  {
   "cell_type": "code",
   "execution_count": 42,
   "metadata": {},
   "outputs": [],
   "source": [
    "import itertools\n",
    "import numpy as np"
   ]
  },
  {
   "cell_type": "code",
   "execution_count": 43,
   "metadata": {},
   "outputs": [],
   "source": [
    "def generate(X):\n",
    "\n",
    "    elements = 'ACGT'\n",
    "\n",
    "    T = []\n",
    "    for x in X:\n",
    "        t = []\n",
    "        for i in range(1, 4 + 1, 1):\n",
    "            v = list(itertools.product(elements, repeat=i))\n",
    "            for i in v:\n",
    "                t.append(x.count(''.join(i)))\n",
    "        T.append(t)\n",
    "\n",
    "    T = np.array(T)\n",
    "\n",
    "\n",
    "    return T"
   ]
  },
  {
   "cell_type": "code",
   "execution_count": 44,
   "metadata": {},
   "outputs": [],
   "source": [
    "v = generate(Sequences)"
   ]
  },
  {
   "cell_type": "code",
   "execution_count": 47,
   "metadata": {},
   "outputs": [
    {
     "data": {
      "text/plain": [
       "(1081, 340)"
      ]
     },
     "execution_count": 47,
     "metadata": {},
     "output_type": "execute_result"
    }
   ],
   "source": [
    "v.shape"
   ]
  },
  {
   "cell_type": "code",
   "execution_count": 48,
   "metadata": {},
   "outputs": [
    {
     "data": {
      "text/plain": [
       "array([35, 39, 31, 26,  7, 11, 10,  5, 14,  9,  6,  7,  8,  8,  6,  6,  4,\n",
       "        9,  5,  6,  2,  1,  4,  0,  3,  4,  2,  2,  2,  1,  3,  3,  1,  3,\n",
       "        0,  1,  5,  3,  4,  2,  3,  2,  1,  4,  3,  2,  1,  0,  2,  1,  2,\n",
       "        2,  0,  4,  2,  2,  4,  2,  1,  0,  2,  3,  3,  1,  1,  1,  1,  3,\n",
       "        0,  3,  0,  1,  4,  2,  2,  1,  0,  2,  1,  2,  0,  4,  2,  2,  1,\n",
       "        0,  1,  0,  1,  0,  0,  0,  2,  1,  0,  1,  0,  0,  0,  0,  1,  1,\n",
       "        1,  0,  1,  0,  0,  3,  2,  0,  0,  0,  1,  0,  0,  1,  0,  1,  1,\n",
       "        1,  0,  0,  0,  0,  0,  0,  2,  1,  0,  1,  1,  1,  0,  1,  0,  0,\n",
       "        1,  1,  0,  1,  0,  0,  0,  0,  0,  1,  0,  0,  1,  1,  3,  0,  1,\n",
       "        1,  1,  0,  0,  0,  3,  1,  1,  1,  0,  0,  2,  1,  0,  0,  1,  1,\n",
       "        0,  1,  0,  1,  0,  0,  1,  1,  1,  1,  0,  1,  1,  1,  1,  1,  0,\n",
       "        0,  1,  0,  0,  0,  0,  0,  0,  0,  0,  2,  0,  0,  0,  0,  1,  0,\n",
       "        0,  1,  0,  1,  0,  1,  1,  0,  0,  0,  0,  0,  0,  2,  0,  2,  1,\n",
       "        0,  0,  1,  0,  2,  0,  0,  1,  1,  1,  1,  1,  1,  0,  0,  1,  0,\n",
       "        0,  0,  0,  0,  0,  0,  0,  2,  0,  0,  2,  0,  1,  0,  1,  2,  0,\n",
       "        0,  1,  0,  0,  0,  0,  0,  0,  1,  1,  0,  0,  0,  0,  1,  0,  0,\n",
       "        0,  0,  1,  2,  0,  0,  0,  0,  1,  1,  1,  0,  0,  0,  0,  0,  0,\n",
       "        0,  0,  1,  1,  0,  2,  1,  0,  1,  1,  0,  0,  1,  1,  0,  0,  0,\n",
       "        1,  0,  0,  0,  0,  0,  1,  1,  0,  0,  0,  1,  0,  0,  0,  0,  0,\n",
       "        2,  0,  0,  0,  0,  2,  1,  1,  0,  0,  0,  1,  1,  0,  2,  0,  0])"
      ]
     },
     "execution_count": 48,
     "metadata": {},
     "output_type": "execute_result"
    }
   ],
   "source": [
    "v[0]"
   ]
  },
  {
   "cell_type": "code",
   "execution_count": null,
   "metadata": {},
   "outputs": [],
   "source": []
  }
 ],
 "metadata": {
  "kernelspec": {
   "display_name": "Python 3",
   "language": "python",
   "name": "python3"
  },
  "language_info": {
   "codemirror_mode": {
    "name": "ipython",
    "version": 3
   },
   "file_extension": ".py",
   "mimetype": "text/x-python",
   "name": "python",
   "nbconvert_exporter": "python",
   "pygments_lexer": "ipython3",
   "version": "3.7.4"
  }
 },
 "nbformat": 4,
 "nbformat_minor": 2
}
